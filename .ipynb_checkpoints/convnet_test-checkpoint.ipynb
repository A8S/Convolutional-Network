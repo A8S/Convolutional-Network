{
 "cells": [
  {
   "cell_type": "code",
   "execution_count": 1,
   "metadata": {
    "collapsed": true
   },
   "outputs": [],
   "source": [
    "import numpy as np\n",
    "import random\n",
    "import math\n",
    "import time\n",
    "import scipy\n",
    "from scipy import ndimage, misc\n",
    "import matplotlib.pyplot as plt"
   ]
  },
  {
   "cell_type": "code",
   "execution_count": 2,
   "metadata": {
    "collapsed": false
   },
   "outputs": [
    {
     "name": "stdout",
     "output_type": "stream",
     "text": [
      "(1720, 2584) <type 'numpy.ndarray'>\n",
      "(43, 64)\n"
     ]
    }
   ],
   "source": [
    "im = scipy.ndimage.imread('cat.jpg', flatten=True)\n",
    "print im.shape, type(im)\n",
    "a = im.shape[0]\n",
    "b= im.shape[1]\n",
    "cat = scipy.misc.imresize(im, (a/40,b/40), interp='bilinear', mode=None)\n",
    "cat = 1.0 - cat/255.0\n",
    "print cat.shape"
   ]
  },
  {
   "cell_type": "code",
   "execution_count": 98,
   "metadata": {
    "collapsed": false
   },
   "outputs": [],
   "source": [
    "test = np.empty((12*12))\n",
    "for i in range(144):\n",
    "    test[i] = i\n",
    "test = test.reshape((1,12,12))\n",
    "# print test"
   ]
  },
  {
   "cell_type": "code",
   "execution_count": 41,
   "metadata": {
    "collapsed": true
   },
   "outputs": [],
   "source": [
    "DEPTH = 3\n",
    "STRIDE = 1\n",
    "# to ensure that the input and output volumes are the same: use P=(F-1)/2 given stride 1.\n",
    "PADDING = 0\n",
    "FILTER_SIZE = 2\n",
    "\n",
    "class ToyNet(object):\n",
    "\n",
    "    def __init__(self, sizes):\n",
    "        self.sizes = sizes\n",
    "        # initialize a list of filters\n",
    "        self.weights = []\n",
    "        for i in range(DEPTH):\n",
    "            self.weights.append([np.random.randn(FILTER_SIZE, FILTER_SIZE)])\n",
    "        self.biases = np.random.rand(DEPTH,1)\n",
    "        self.activations = []\n",
    "\n",
    "    def convolve(self, input_neurons):\n",
    "        '''\n",
    "        Assume input image to be of channel one!\n",
    "        '''\n",
    "        output_dim1 = (input_neurons.shape[0] - FILTER_SIZE + 2*PADDING)/STRIDE + 1        # num of rows\n",
    "        output_dim2 =  (input_neurons.shape[1] - FILTER_SIZE + 2*PADDING)/STRIDE + 1       # num of cols\n",
    "\n",
    "        for i in range(DEPTH):\n",
    "            self.activations.append(np.empty((output_dim1 * output_dim2)))\n",
    "\n",
    "        print 'shape of input (rows,cols): ', input_neurons.shape\n",
    "        print 'shape of output (rows, cols): ','(', output_dim1,',', output_dim2, ')'\n",
    "\n",
    "        for j in range(DEPTH):\n",
    "            slide = 0\n",
    "            row = 0\n",
    "            print self.activations[j].shape[0]    # one dimensional\n",
    "\n",
    "            for i in range(self.activations[j].shape[0]):  # loop til the output array is filled up -> one dimensional (600)\n",
    "\n",
    "                # ACTIVATIONS -> loop through each 2x2 block horizontally\n",
    "                self.activations[j][i] = sigmoid(np.sum(input_neurons[row:FILTER_SIZE+row, slide:FILTER_SIZE + slide] * self.weights[j][0]) + self.biases[j])\n",
    "                slide += STRIDE\n",
    "\n",
    "                if (FILTER_SIZE + slide)-STRIDE >= input_neurons.shape[1]:    # wrap indeces at the end of each row\n",
    "                    slide = 0\n",
    "                    row += STRIDE\n",
    "\n",
    "            self.activations[j] = self.activations[j].reshape((output_dim1, output_dim2))\n",
    "#         print self.activations\n"
   ]
  },
  {
   "cell_type": "code",
   "execution_count": 114,
   "metadata": {
    "collapsed": false
   },
   "outputs": [],
   "source": [
    "class PoolingLayer(object):\n",
    "\n",
    "    def __init__(self, width_in, height_in, depth, poolsize = (2,2)):\n",
    "        '''\n",
    "        width_in and height_in are the dimensions of the input image\n",
    "        poolsize is treated as a tuple of filter and stride -> it should work with overlapping pooling\n",
    "        '''\n",
    "        self.width_in = width_in\n",
    "        self.height_in = height_in\n",
    "        self.depth = depth\n",
    "        self.poolsize = poolsize\n",
    "        self.width_out = (self.width_in - self.poolsize[0])/self.poolsize[1] + 1      # num of output neurons\n",
    "        self.height_out = (self.height_in - self.poolsize[0])/self.poolsize[1] + 1\n",
    "        print self.height_out, self.width_out\n",
    "\n",
    "        # initialize empty output matrix\n",
    "        self.output = np.empty((self.depth, self.width_out * self.height_out))\n",
    "        self.max_indeces = np.empty((self.depth, self.width_out * self.height_out, 2))\n",
    "        print 'Shape of pooling layer: ', self.output.shape\n",
    "\n",
    "    def pool(self, input_image):\n",
    "        k = 0\n",
    "        \n",
    "        # for each filter map\n",
    "        for j in range(self.depth):\n",
    "            row = 0\n",
    "            slide = 0\n",
    "            for i in range(self.width_out * self.height_out):\n",
    "                toPool = input_image[j][row:self.poolsize[0] + row, slide:self.poolsize[0] + slide]\n",
    "\n",
    "                self.output[j][k] = np.amax(toPool)                # calculate the max activation\n",
    "                index = zip(*np.where(np.max(toPool) == toPool))           # save the index of the max\n",
    "                if len(index) > 1:\n",
    "                    index = [index[0]]\n",
    "                index = index[0][0]+ row, index[0][1] + slide\n",
    "                self.max_indeces[j][k] = index\n",
    "\n",
    "                slide += self.poolsize[1]\n",
    "\n",
    "                # modify this if stride != filter for poolsize \n",
    "                if slide >= self.width_in:\n",
    "                    slide = 0\n",
    "                    row += self.poolsize[1]\n",
    "                k += 1\n",
    "#                 print 'matrix: ', toPool,'max', self.output[j][k-1]\n",
    "#                 print 'index: ', self.max_indeces[j][k-1]\n",
    "#                 if k > 10:\n",
    "#                     break\n",
    "                \n",
    "        self.output = self.output.reshape((self.depth, self.height_out, self.width_out))\n",
    "        self.max_indeces = self.max_indeces.reshape((self.depth, self.height_out, self.width_out, 2))\n",
    "#         print 'AFTER RESHPAING:', self.output"
   ]
  },
  {
   "cell_type": "code",
   "execution_count": 101,
   "metadata": {
    "collapsed": true
   },
   "outputs": [],
   "source": [
    "class FullyConnectedLayer(object):\n",
    "\n",
    "    def __init__(self, width_in, height_in, depth, width_out, height_out):\n",
    "        self.width_in = width_in\n",
    "        self.height_in = height_in\n",
    "        self.depth = depth\n",
    "        self.width_out = width_out\n",
    "        self.height_out = height_out\n",
    "\n",
    "        self.weights = np.random.randn(self.width_in, self.height_in, self.depth, self.width_out, self.height_out)\n",
    "        self.biases = np.random.randn(self.width_out, self.height_out)\n",
    "\n",
    "    def feedforward(self, input_matrix):\n",
    "        print self.weights.shape\n",
    "        for b,w in zip(self.biases, self.weights):\n",
    "            print b.shape,w.shape\n",
    "            break "
   ]
  },
  {
   "cell_type": "code",
   "execution_count": 102,
   "metadata": {
    "collapsed": true
   },
   "outputs": [],
   "source": [
    "def sigmoid(z):\n",
    "    return 1.0/(1.0 + np.exp(-z))\n",
    "\n",
    "def sigmoid_prime(z):\n",
    "    return sigmoid(z) * (1-sigmoid(z))"
   ]
  },
  {
   "cell_type": "code",
   "execution_count": 113,
   "metadata": {
    "collapsed": false
   },
   "outputs": [
    {
     "name": "stdout",
     "output_type": "stream",
     "text": [
      "6 6\n",
      "Shape of pooling layer:  (1, 36)\n",
      "matrix:  [[  0.   1.]\n",
      " [ 12.  13.]] max 13.0\n",
      "index:  [ 1.  1.]\n",
      "matrix:  [[  2.   3.]\n",
      " [ 14.  15.]] max 15.0\n",
      "index:  [ 1.  3.]\n",
      "matrix:  [[  4.   5.]\n",
      " [ 16.  17.]] max 17.0\n",
      "index:  [ 1.  5.]\n",
      "matrix:  [[  6.   7.]\n",
      " [ 18.  19.]] max 19.0\n",
      "index:  [ 1.  7.]\n",
      "matrix:  [[  8.   9.]\n",
      " [ 20.  21.]] max 21.0\n",
      "index:  [ 1.  9.]\n",
      "matrix:  [[ 10.  11.]\n",
      " [ 22.  23.]] max 23.0\n",
      "index:  [  1.  11.]\n",
      "matrix:  [[ 24.  25.]\n",
      " [ 36.  37.]] max 37.0\n",
      "index:  [ 3.  1.]\n",
      "matrix:  [[ 26.  27.]\n",
      " [ 38.  39.]] max 39.0\n",
      "index:  [ 3.  3.]\n",
      "matrix:  [[ 28.  29.]\n",
      " [ 40.  41.]] max 41.0\n",
      "index:  [ 3.  5.]\n",
      "matrix:  [[ 30.  31.]\n",
      " [ 42.  43.]] max 43.0\n",
      "index:  [ 3.  7.]\n",
      "matrix:  [[ 32.  33.]\n",
      " [ 44.  45.]] max 45.0\n",
      "index:  [ 3.  9.]\n"
     ]
    }
   ],
   "source": [
    "# net = ToyNet([test.shape[0]*test.shape[1]])\n",
    "# print 'yooooo', net.sizes[0]\n",
    "# net.convolve(test)\n",
    "\n",
    "# TODO: implement for all activations!\n",
    "pool_layer = PoolingLayer(12, 12, 1) # only implemented for the first depth layer\n",
    "pool_layer.pool(test)"
   ]
  },
  {
   "cell_type": "code",
   "execution_count": null,
   "metadata": {
    "collapsed": true
   },
   "outputs": [],
   "source": []
  }
 ],
 "metadata": {
  "kernelspec": {
   "display_name": "Python 2",
   "language": "python",
   "name": "python2"
  },
  "language_info": {
   "codemirror_mode": {
    "name": "ipython",
    "version": 2
   },
   "file_extension": ".py",
   "mimetype": "text/x-python",
   "name": "python",
   "nbconvert_exporter": "python",
   "pygments_lexer": "ipython2",
   "version": "2.7.11"
  }
 },
 "nbformat": 4,
 "nbformat_minor": 0
}
